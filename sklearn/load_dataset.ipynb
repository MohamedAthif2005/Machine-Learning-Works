{
 "cells": [
  {
   "cell_type": "code",
   "execution_count": 1,
   "id": "f1b17ed8",
   "metadata": {},
   "outputs": [],
   "source": [
    "#Loading a dataset"
   ]
  },
  {
   "cell_type": "code",
   "execution_count": 12,
   "id": "95679149",
   "metadata": {},
   "outputs": [],
   "source": [
    "import sklearn\n",
    "from sklearn.datasets import load_iris,load_wine"
   ]
  },
  {
   "cell_type": "code",
   "execution_count": 13,
   "id": "9744204f",
   "metadata": {},
   "outputs": [],
   "source": [
    "iris = load_iris()"
   ]
  },
  {
   "cell_type": "code",
   "execution_count": 14,
   "id": "c2e463d9",
   "metadata": {},
   "outputs": [],
   "source": [
    "feature_names = iris.feature_names"
   ]
  },
  {
   "cell_type": "code",
   "execution_count": 15,
   "id": "b0792dcc",
   "metadata": {},
   "outputs": [
    {
     "data": {
      "text/plain": [
       "['sepal length (cm)',\n",
       " 'sepal width (cm)',\n",
       " 'petal length (cm)',\n",
       " 'petal width (cm)']"
      ]
     },
     "execution_count": 15,
     "metadata": {},
     "output_type": "execute_result"
    }
   ],
   "source": [
    "feature_names"
   ]
  },
  {
   "cell_type": "code",
   "execution_count": 16,
   "id": "715b5f4a",
   "metadata": {},
   "outputs": [],
   "source": [
    "target_names = iris.target_names"
   ]
  },
  {
   "cell_type": "code",
   "execution_count": 17,
   "id": "a329c197",
   "metadata": {},
   "outputs": [
    {
     "data": {
      "text/plain": [
       "array(['setosa', 'versicolor', 'virginica'], dtype='<U10')"
      ]
     },
     "execution_count": 17,
     "metadata": {},
     "output_type": "execute_result"
    }
   ],
   "source": [
    "target_names"
   ]
  },
  {
   "cell_type": "code",
   "execution_count": 18,
   "id": "e1c0325b",
   "metadata": {},
   "outputs": [],
   "source": [
    "wine  = load_wine()"
   ]
  },
  {
   "cell_type": "code",
   "execution_count": 19,
   "id": "552240c9",
   "metadata": {},
   "outputs": [],
   "source": [
    "wine_feature = wine.feature_names"
   ]
  },
  {
   "cell_type": "code",
   "execution_count": 20,
   "id": "ef88894b",
   "metadata": {},
   "outputs": [
    {
     "data": {
      "text/plain": [
       "['alcohol',\n",
       " 'malic_acid',\n",
       " 'ash',\n",
       " 'alcalinity_of_ash',\n",
       " 'magnesium',\n",
       " 'total_phenols',\n",
       " 'flavanoids',\n",
       " 'nonflavanoid_phenols',\n",
       " 'proanthocyanins',\n",
       " 'color_intensity',\n",
       " 'hue',\n",
       " 'od280/od315_of_diluted_wines',\n",
       " 'proline']"
      ]
     },
     "execution_count": 20,
     "metadata": {},
     "output_type": "execute_result"
    }
   ],
   "source": [
    "wine_feature"
   ]
  },
  {
   "cell_type": "code",
   "execution_count": 21,
   "id": "1251593b",
   "metadata": {},
   "outputs": [],
   "source": [
    "wine_target = wine.target_names"
   ]
  },
  {
   "cell_type": "code",
   "execution_count": 22,
   "id": "313275bf",
   "metadata": {},
   "outputs": [
    {
     "data": {
      "text/plain": [
       "array(['class_0', 'class_1', 'class_2'], dtype='<U7')"
      ]
     },
     "execution_count": 22,
     "metadata": {},
     "output_type": "execute_result"
    }
   ],
   "source": [
    "wine_target"
   ]
  },
  {
   "cell_type": "code",
   "execution_count": null,
   "id": "34f6d2e4",
   "metadata": {},
   "outputs": [],
   "source": []
  }
 ],
 "metadata": {
  "kernelspec": {
   "display_name": "Python 3 (ipykernel)",
   "language": "python",
   "name": "python3"
  },
  "language_info": {
   "codemirror_mode": {
    "name": "ipython",
    "version": 3
   },
   "file_extension": ".py",
   "mimetype": "text/x-python",
   "name": "python",
   "nbconvert_exporter": "python",
   "pygments_lexer": "ipython3",
   "version": "3.11.2"
  }
 },
 "nbformat": 4,
 "nbformat_minor": 5
}
