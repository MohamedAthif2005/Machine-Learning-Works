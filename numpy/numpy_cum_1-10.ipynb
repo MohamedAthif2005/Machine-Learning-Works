{
 "cells": [
  {
   "cell_type": "markdown",
   "id": "740eba8c",
   "metadata": {},
   "source": [
    "Cumulative Challenge 1\n",
    "\n",
    "Create a 10×10 matrix with values from 0 to 99.\n",
    "\n",
    "Replace all elements divisible by 7 with 0.\n",
    "\n",
    "Extract the central 4×4 block of this matrix.\n",
    "\n",
    "Compute the square of all elements in that block.\n",
    "\n",
    "Add a 1D array [1,2,3,4] to each row of this block using broadcasting.\n",
    "\n",
    "Finally, find the min and max values of the resulting block."
   ]
  },
  {
   "cell_type": "code",
   "execution_count": 1,
   "id": "312f60d0",
   "metadata": {},
   "outputs": [],
   "source": [
    "import numpy as np"
   ]
  },
  {
   "cell_type": "code",
   "execution_count": 29,
   "id": "87b85592",
   "metadata": {},
   "outputs": [
    {
     "data": {
      "text/plain": [
       "array([[ 0,  1,  2,  3,  4,  5,  6,  7,  8,  9],\n",
       "       [10, 11, 12, 13, 14, 15, 16, 17, 18, 19],\n",
       "       [20, 21, 22, 23, 24, 25, 26, 27, 28, 29],\n",
       "       [30, 31, 32, 33, 34, 35, 36, 37, 38, 39],\n",
       "       [40, 41, 42, 43, 44, 45, 46, 47, 48, 49],\n",
       "       [50, 51, 52, 53, 54, 55, 56, 57, 58, 59],\n",
       "       [60, 61, 62, 63, 64, 65, 66, 67, 68, 69],\n",
       "       [70, 71, 72, 73, 74, 75, 76, 77, 78, 79],\n",
       "       [80, 81, 82, 83, 84, 85, 86, 87, 88, 89],\n",
       "       [90, 91, 92, 93, 94, 95, 96, 97, 98, 99]])"
      ]
     },
     "execution_count": 29,
     "metadata": {},
     "output_type": "execute_result"
    }
   ],
   "source": [
    "array = np.arange(0,100).reshape(10,10)\n",
    "array"
   ]
  },
  {
   "cell_type": "code",
   "execution_count": 30,
   "id": "b51f0f15",
   "metadata": {},
   "outputs": [
    {
     "data": {
      "text/plain": [
       "array([[ 0,  1,  2,  3,  4,  5,  6,  0,  8,  9],\n",
       "       [10, 11, 12, 13,  0, 15, 16, 17, 18, 19],\n",
       "       [20,  0, 22, 23, 24, 25, 26, 27,  0, 29],\n",
       "       [30, 31, 32, 33, 34,  0, 36, 37, 38, 39],\n",
       "       [40, 41,  0, 43, 44, 45, 46, 47, 48,  0],\n",
       "       [50, 51, 52, 53, 54, 55,  0, 57, 58, 59],\n",
       "       [60, 61, 62,  0, 64, 65, 66, 67, 68, 69],\n",
       "       [ 0, 71, 72, 73, 74, 75, 76,  0, 78, 79],\n",
       "       [80, 81, 82, 83,  0, 85, 86, 87, 88, 89],\n",
       "       [90,  0, 92, 93, 94, 95, 96, 97,  0, 99]])"
      ]
     },
     "execution_count": 30,
     "metadata": {},
     "output_type": "execute_result"
    }
   ],
   "source": [
    "array[array%7==0]=0\n",
    "array"
   ]
  },
  {
   "cell_type": "code",
   "execution_count": 31,
   "id": "57739915",
   "metadata": {},
   "outputs": [
    {
     "data": {
      "text/plain": [
       "array([[33, 34,  0, 36],\n",
       "       [43, 44, 45, 46],\n",
       "       [53, 54, 55,  0],\n",
       "       [ 0, 64, 65, 66]])"
      ]
     },
     "execution_count": 31,
     "metadata": {},
     "output_type": "execute_result"
    }
   ],
   "source": [
    "block = array[3:7,3:7]\n",
    "block"
   ]
  },
  {
   "cell_type": "code",
   "execution_count": 36,
   "id": "9f97d358",
   "metadata": {},
   "outputs": [
    {
     "data": {
      "text/plain": [
       "array([[1089, 1156,    0, 1296],\n",
       "       [1849, 1936, 2025, 2116],\n",
       "       [2809, 2916, 3025,    0],\n",
       "       [   0, 4096, 4225, 4356]])"
      ]
     },
     "execution_count": 36,
     "metadata": {},
     "output_type": "execute_result"
    }
   ],
   "source": [
    "np.square(block)"
   ]
  },
  {
   "cell_type": "code",
   "execution_count": 33,
   "id": "088b94e7",
   "metadata": {},
   "outputs": [
    {
     "data": {
      "text/plain": [
       "array([[34, 36,  3, 40],\n",
       "       [44, 46, 48, 50],\n",
       "       [54, 56, 58,  4],\n",
       "       [ 1, 66, 68, 70]])"
      ]
     },
     "execution_count": 33,
     "metadata": {},
     "output_type": "execute_result"
    }
   ],
   "source": [
    "resultant = block+[1,2,3,4]\n",
    "resultant"
   ]
  },
  {
   "cell_type": "code",
   "execution_count": 34,
   "id": "f27d6c3c",
   "metadata": {},
   "outputs": [
    {
     "data": {
      "text/plain": [
       "1"
      ]
     },
     "execution_count": 34,
     "metadata": {},
     "output_type": "execute_result"
    }
   ],
   "source": [
    "np.min(resultant)"
   ]
  },
  {
   "cell_type": "code",
   "execution_count": 35,
   "id": "1987c6bb",
   "metadata": {},
   "outputs": [
    {
     "data": {
      "text/plain": [
       "70"
      ]
     },
     "execution_count": 35,
     "metadata": {},
     "output_type": "execute_result"
    }
   ],
   "source": [
    "np.max(resultant)"
   ]
  }
 ],
 "metadata": {
  "kernelspec": {
   "display_name": "Python 3 (ipykernel)",
   "language": "python",
   "name": "python3"
  },
  "language_info": {
   "codemirror_mode": {
    "name": "ipython",
    "version": 3
   },
   "file_extension": ".py",
   "mimetype": "text/x-python",
   "name": "python",
   "nbconvert_exporter": "python",
   "pygments_lexer": "ipython3",
   "version": "3.11.2"
  }
 },
 "nbformat": 4,
 "nbformat_minor": 5
}
