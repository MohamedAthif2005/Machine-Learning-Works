{
 "cells": [
  {
   "cell_type": "markdown",
   "id": "e91d176f",
   "metadata": {},
   "source": [
    "**Create a 10×10 matrix with random values, then find the minimum and maximum values from that matrix using NumPy.**"
   ]
  },
  {
   "cell_type": "code",
   "execution_count": 1,
   "id": "08c09144",
   "metadata": {},
   "outputs": [],
   "source": [
    "import numpy as np"
   ]
  },
  {
   "cell_type": "code",
   "execution_count": 5,
   "id": "4e2eda5d",
   "metadata": {},
   "outputs": [
    {
     "data": {
      "text/plain": [
       "array([[ 1.23996428, -1.99071611, -0.96850854,  0.86011622,  0.94000608,\n",
       "        -1.34661701,  0.30945711, -0.01263614,  0.09706197, -1.5353266 ],\n",
       "       [-1.13656307,  1.45998245, -1.17758729,  0.37201586, -0.43961175,\n",
       "        -0.72792043, -0.23088689, -1.38448506,  0.08257437, -0.99217526],\n",
       "       [-0.03697724,  0.41122998,  0.61683919,  0.01983524, -0.20180631,\n",
       "        -0.14512078,  0.50446081,  0.60495012, -0.56284016,  0.39271776],\n",
       "       [ 0.18023422,  0.73501544, -0.08504455,  1.71047881,  0.5281353 ,\n",
       "         0.52619953,  1.28656808, -0.10937452,  2.23044158, -0.19679967],\n",
       "       [-0.37871943, -1.7462443 ,  0.92508796, -1.76469172, -1.08012905,\n",
       "         0.97042326, -0.34386288,  0.29891617,  0.57832107, -1.44539358],\n",
       "       [-0.00399465, -1.10935646,  1.50111196, -0.51910138, -0.45234348,\n",
       "         0.16101302, -1.11174278,  0.44078771,  0.23808782,  1.04631447],\n",
       "       [ 0.43227551, -1.24872436,  0.97310626,  0.72548853, -0.13297863,\n",
       "        -0.17329545, -1.56009866,  0.27746694,  0.59898722,  0.76227396],\n",
       "       [-0.71060879, -2.14688144, -0.69693754, -0.18294138, -1.10462808,\n",
       "         0.8243735 , -1.90794845, -0.31797678, -1.08972356, -0.6186639 ],\n",
       "       [-1.33615523, -0.60677188, -0.35552094,  0.65779275,  0.31086766,\n",
       "         0.16316253, -1.80652414, -1.21473036, -1.17526791,  0.10075832],\n",
       "       [ 0.87513499, -0.81215384, -0.47563275,  1.70992722,  0.19148114,\n",
       "        -1.64096458,  0.19225363, -1.48886572, -0.43078907,  0.23286406]])"
      ]
     },
     "execution_count": 5,
     "metadata": {},
     "output_type": "execute_result"
    }
   ],
   "source": [
    "array = np.random.randn(10,10)\n",
    "array"
   ]
  },
  {
   "cell_type": "code",
   "execution_count": 6,
   "id": "e5809445",
   "metadata": {},
   "outputs": [
    {
     "data": {
      "text/plain": [
       "-2.1468814429563094"
      ]
     },
     "execution_count": 6,
     "metadata": {},
     "output_type": "execute_result"
    }
   ],
   "source": [
    "np.min(array)"
   ]
  },
  {
   "cell_type": "code",
   "execution_count": 7,
   "id": "64d595d5",
   "metadata": {},
   "outputs": [
    {
     "data": {
      "text/plain": [
       "2.2304415751179496"
      ]
     },
     "execution_count": 7,
     "metadata": {},
     "output_type": "execute_result"
    }
   ],
   "source": [
    "np.max(array)"
   ]
  },
  {
   "cell_type": "code",
   "execution_count": null,
   "id": "f7a9effd",
   "metadata": {},
   "outputs": [],
   "source": []
  }
 ],
 "metadata": {
  "kernelspec": {
   "display_name": "Python 3 (ipykernel)",
   "language": "python",
   "name": "python3"
  },
  "language_info": {
   "codemirror_mode": {
    "name": "ipython",
    "version": 3
   },
   "file_extension": ".py",
   "mimetype": "text/x-python",
   "name": "python",
   "nbconvert_exporter": "python",
   "pygments_lexer": "ipython3",
   "version": "3.11.2"
  }
 },
 "nbformat": 4,
 "nbformat_minor": 5
}
