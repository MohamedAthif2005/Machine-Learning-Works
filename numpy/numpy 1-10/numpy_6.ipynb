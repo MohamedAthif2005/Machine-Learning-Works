{
 "cells": [
  {
   "cell_type": "markdown",
   "id": "aa033c1b",
   "metadata": {},
   "source": [
    "**Create a 5×5 matrix of random numbers sampled from a standard normal distribution (mean = 0, std = 1).**"
   ]
  },
  {
   "cell_type": "code",
   "execution_count": 1,
   "id": "6e751e1f",
   "metadata": {},
   "outputs": [],
   "source": [
    "import numpy as np"
   ]
  },
  {
   "cell_type": "code",
   "execution_count": 6,
   "id": "deb88ddb",
   "metadata": {},
   "outputs": [
    {
     "data": {
      "text/plain": [
       "array([[-0.00566601,  2.26414327,  1.35200014, -0.65138428,  1.33844569],\n",
       "       [-0.58432443, -1.73927272, -0.46816661, -1.0525069 ,  0.44040458],\n",
       "       [-0.95848559,  0.36154023, -0.62149121, -0.66098619,  0.11857596],\n",
       "       [-1.74864628, -0.02163511, -1.01375278,  0.22749641,  2.79084892],\n",
       "       [ 1.87588482, -0.099228  ,  1.22009558, -0.41409077, -0.09671994]])"
      ]
     },
     "execution_count": 6,
     "metadata": {},
     "output_type": "execute_result"
    }
   ],
   "source": [
    "array = np.random.randn(5,5)\n",
    "array"
   ]
  },
  {
   "cell_type": "code",
   "execution_count": null,
   "id": "d1736915",
   "metadata": {},
   "outputs": [],
   "source": []
  }
 ],
 "metadata": {
  "kernelspec": {
   "display_name": "Python 3 (ipykernel)",
   "language": "python",
   "name": "python3"
  },
  "language_info": {
   "codemirror_mode": {
    "name": "ipython",
    "version": 3
   },
   "file_extension": ".py",
   "mimetype": "text/x-python",
   "name": "python",
   "nbconvert_exporter": "python",
   "pygments_lexer": "ipython3",
   "version": "3.11.2"
  }
 },
 "nbformat": 4,
 "nbformat_minor": 5
}
