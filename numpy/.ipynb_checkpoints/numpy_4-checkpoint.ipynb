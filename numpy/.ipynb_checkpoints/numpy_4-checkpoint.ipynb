{
 "cells": [
  {
   "cell_type": "markdown",
   "id": "93ab8381",
   "metadata": {},
   "source": [
    "**Create a NumPy array with all the even numbers between 20 and 40 (inclusive).**"
   ]
  },
  {
   "cell_type": "code",
   "execution_count": 1,
   "id": "d4c68bb1",
   "metadata": {},
   "outputs": [],
   "source": [
    "import numpy as np"
   ]
  },
  {
   "cell_type": "code",
   "execution_count": 4,
   "id": "a7dda343",
   "metadata": {},
   "outputs": [],
   "source": [
    "array = np.arange(20,41,2)"
   ]
  },
  {
   "cell_type": "code",
   "execution_count": 5,
   "id": "9d2c4aa5",
   "metadata": {},
   "outputs": [
    {
     "data": {
      "text/plain": [
       "array([20, 22, 24, 26, 28, 30, 32, 34, 36, 38, 40])"
      ]
     },
     "execution_count": 5,
     "metadata": {},
     "output_type": "execute_result"
    }
   ],
   "source": [
    "array"
   ]
  },
  {
   "cell_type": "code",
   "execution_count": null,
   "id": "af6250e8",
   "metadata": {},
   "outputs": [],
   "source": []
  }
 ],
 "metadata": {
  "kernelspec": {
   "display_name": "Python 3 (ipykernel)",
   "language": "python",
   "name": "python3"
  },
  "language_info": {
   "codemirror_mode": {
    "name": "ipython",
    "version": 3
   },
   "file_extension": ".py",
   "mimetype": "text/x-python",
   "name": "python",
   "nbconvert_exporter": "python",
   "pygments_lexer": "ipython3",
   "version": "3.11.2"
  }
 },
 "nbformat": 4,
 "nbformat_minor": 5
}
