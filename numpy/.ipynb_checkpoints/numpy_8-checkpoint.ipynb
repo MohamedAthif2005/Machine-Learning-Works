{
 "cells": [
  {
   "cell_type": "markdown",
   "id": "4f1cde72",
   "metadata": {},
   "source": [
    "**Create a random 30-element 1D NumPy array, then reshape it into a 6×5 matrix.**"
   ]
  },
  {
   "cell_type": "code",
   "execution_count": 1,
   "id": "eb36c3b7",
   "metadata": {},
   "outputs": [],
   "source": [
    "import numpy as np"
   ]
  },
  {
   "cell_type": "code",
   "execution_count": 4,
   "id": "94e72162",
   "metadata": {},
   "outputs": [],
   "source": [
    "array = np.random.randn(30)"
   ]
  },
  {
   "cell_type": "code",
   "execution_count": 5,
   "id": "394e5dfe",
   "metadata": {},
   "outputs": [
    {
     "data": {
      "text/plain": [
       "array([-0.15410329, -0.46921677,  0.68991941,  1.66356243, -0.46419132,\n",
       "       -1.69587141,  0.90614594, -0.69713812,  0.04478736,  1.31263715,\n",
       "        1.29993188,  1.60515941,  0.6513717 , -0.4824391 ,  1.20634027,\n",
       "        0.02497955, -0.06481797, -0.15716736,  1.55760866,  0.10704391,\n",
       "       -1.55793412,  0.40224565, -1.06227711, -0.1848113 , -0.33465162,\n",
       "        0.29522832,  0.76943809,  0.65803346,  1.60066159,  0.21782662])"
      ]
     },
     "execution_count": 5,
     "metadata": {},
     "output_type": "execute_result"
    }
   ],
   "source": [
    "array"
   ]
  },
  {
   "cell_type": "code",
   "execution_count": 6,
   "id": "3ee9ec76",
   "metadata": {},
   "outputs": [
    {
     "data": {
      "text/plain": [
       "array([[-0.15410329, -0.46921677,  0.68991941,  1.66356243, -0.46419132],\n",
       "       [-1.69587141,  0.90614594, -0.69713812,  0.04478736,  1.31263715],\n",
       "       [ 1.29993188,  1.60515941,  0.6513717 , -0.4824391 ,  1.20634027],\n",
       "       [ 0.02497955, -0.06481797, -0.15716736,  1.55760866,  0.10704391],\n",
       "       [-1.55793412,  0.40224565, -1.06227711, -0.1848113 , -0.33465162],\n",
       "       [ 0.29522832,  0.76943809,  0.65803346,  1.60066159,  0.21782662]])"
      ]
     },
     "execution_count": 6,
     "metadata": {},
     "output_type": "execute_result"
    }
   ],
   "source": [
    "array.reshape(6,5)"
   ]
  },
  {
   "cell_type": "code",
   "execution_count": null,
   "id": "02b55f2b",
   "metadata": {},
   "outputs": [],
   "source": []
  }
 ],
 "metadata": {
  "kernelspec": {
   "display_name": "Python 3 (ipykernel)",
   "language": "python",
   "name": "python3"
  },
  "language_info": {
   "codemirror_mode": {
    "name": "ipython",
    "version": 3
   },
   "file_extension": ".py",
   "mimetype": "text/x-python",
   "name": "python",
   "nbconvert_exporter": "python",
   "pygments_lexer": "ipython3",
   "version": "3.11.2"
  }
 },
 "nbformat": 4,
 "nbformat_minor": 5
}
